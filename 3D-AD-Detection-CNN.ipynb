{
 "cells": [
  {
   "cell_type": "markdown",
   "metadata": {},
   "source": [
    "### Dependencies"
   ]
  },
  {
   "cell_type": "code",
   "execution_count": 1,
   "metadata": {
    "execution": {
     "iopub.execute_input": "2024-11-24T23:27:11.015901Z",
     "iopub.status.busy": "2024-11-24T23:27:11.015303Z",
     "iopub.status.idle": "2024-11-24T23:27:11.025385Z",
     "shell.execute_reply": "2024-11-24T23:27:11.023883Z",
     "shell.execute_reply.started": "2024-11-24T23:27:11.015854Z"
    },
    "trusted": true
   },
   "outputs": [],
   "source": [
    "import os\n",
    "import pandas as pd\n",
    "from tqdm import tqdm\n",
    "from PIL import Image\n",
    "from torch.utils.data import Dataset, DataLoader\n",
    "import torchvision.transforms as transforms\n",
    "from sklearn.model_selection import train_test_split\n",
    "import torch\n",
    "import torch.nn as nn\n",
    "import torch.nn.functional as F\n",
    "import torch.optim as optim"
   ]
  },
  {
   "cell_type": "markdown",
   "metadata": {},
   "source": [
    "### Loading Data"
   ]
  },
  {
   "cell_type": "markdown",
   "metadata": {},
   "source": [
    "Dataset: https://www.kaggle.com/datasets/ninadaithal/imagesoasis"
   ]
  },
  {
   "cell_type": "code",
   "execution_count": 2,
   "metadata": {
    "execution": {
     "iopub.execute_input": "2024-11-24T23:27:13.640557Z",
     "iopub.status.busy": "2024-11-24T23:27:13.640118Z",
     "iopub.status.idle": "2024-11-24T23:27:13.853051Z",
     "shell.execute_reply": "2024-11-24T23:27:13.851964Z",
     "shell.execute_reply.started": "2024-11-24T23:27:13.640520Z"
    },
    "trusted": true
   },
   "outputs": [
    {
     "name": "stderr",
     "output_type": "stream",
     "text": [
      "100%|██████████| 1/1 [00:00<00:00,  1.98it/s]\n"
     ]
    },
    {
     "data": {
      "text/html": [
       "<div>\n",
       "<style scoped>\n",
       "    .dataframe tbody tr th:only-of-type {\n",
       "        vertical-align: middle;\n",
       "    }\n",
       "\n",
       "    .dataframe tbody tr th {\n",
       "        vertical-align: top;\n",
       "    }\n",
       "\n",
       "    .dataframe thead th {\n",
       "        text-align: right;\n",
       "    }\n",
       "</style>\n",
       "<table border=\"1\" class=\"dataframe\">\n",
       "  <thead>\n",
       "    <tr style=\"text-align: right;\">\n",
       "      <th></th>\n",
       "      <th>image</th>\n",
       "      <th>label</th>\n",
       "    </tr>\n",
       "  </thead>\n",
       "  <tbody>\n",
       "    <tr>\n",
       "      <th>0</th>\n",
       "      <td>[C:\\Users\\rohan\\Desktop\\184a\\AD-Detection\\arch...</td>\n",
       "      <td>1</td>\n",
       "    </tr>\n",
       "    <tr>\n",
       "      <th>1</th>\n",
       "      <td>[C:\\Users\\rohan\\Desktop\\184a\\AD-Detection\\arch...</td>\n",
       "      <td>1</td>\n",
       "    </tr>\n",
       "    <tr>\n",
       "      <th>2</th>\n",
       "      <td>[C:\\Users\\rohan\\Desktop\\184a\\AD-Detection\\arch...</td>\n",
       "      <td>1</td>\n",
       "    </tr>\n",
       "    <tr>\n",
       "      <th>3</th>\n",
       "      <td>[C:\\Users\\rohan\\Desktop\\184a\\AD-Detection\\arch...</td>\n",
       "      <td>1</td>\n",
       "    </tr>\n",
       "    <tr>\n",
       "      <th>4</th>\n",
       "      <td>[C:\\Users\\rohan\\Desktop\\184a\\AD-Detection\\arch...</td>\n",
       "      <td>1</td>\n",
       "    </tr>\n",
       "    <tr>\n",
       "      <th>...</th>\n",
       "      <td>...</td>\n",
       "      <td>...</td>\n",
       "    </tr>\n",
       "    <tr>\n",
       "      <th>1412</th>\n",
       "      <td>[C:\\Users\\rohan\\Desktop\\184a\\AD-Detection\\arch...</td>\n",
       "      <td>1</td>\n",
       "    </tr>\n",
       "    <tr>\n",
       "      <th>1413</th>\n",
       "      <td>[C:\\Users\\rohan\\Desktop\\184a\\AD-Detection\\arch...</td>\n",
       "      <td>1</td>\n",
       "    </tr>\n",
       "    <tr>\n",
       "      <th>1414</th>\n",
       "      <td>[C:\\Users\\rohan\\Desktop\\184a\\AD-Detection\\arch...</td>\n",
       "      <td>1</td>\n",
       "    </tr>\n",
       "    <tr>\n",
       "      <th>1415</th>\n",
       "      <td>[C:\\Users\\rohan\\Desktop\\184a\\AD-Detection\\arch...</td>\n",
       "      <td>1</td>\n",
       "    </tr>\n",
       "    <tr>\n",
       "      <th>1416</th>\n",
       "      <td>[C:\\Users\\rohan\\Desktop\\184a\\AD-Detection\\arch...</td>\n",
       "      <td>1</td>\n",
       "    </tr>\n",
       "  </tbody>\n",
       "</table>\n",
       "<p>1417 rows × 2 columns</p>\n",
       "</div>"
      ],
      "text/plain": [
       "                                                  image  label\n",
       "0     [C:\\Users\\rohan\\Desktop\\184a\\AD-Detection\\arch...      1\n",
       "1     [C:\\Users\\rohan\\Desktop\\184a\\AD-Detection\\arch...      1\n",
       "2     [C:\\Users\\rohan\\Desktop\\184a\\AD-Detection\\arch...      1\n",
       "3     [C:\\Users\\rohan\\Desktop\\184a\\AD-Detection\\arch...      1\n",
       "4     [C:\\Users\\rohan\\Desktop\\184a\\AD-Detection\\arch...      1\n",
       "...                                                 ...    ...\n",
       "1412  [C:\\Users\\rohan\\Desktop\\184a\\AD-Detection\\arch...      1\n",
       "1413  [C:\\Users\\rohan\\Desktop\\184a\\AD-Detection\\arch...      1\n",
       "1414  [C:\\Users\\rohan\\Desktop\\184a\\AD-Detection\\arch...      1\n",
       "1415  [C:\\Users\\rohan\\Desktop\\184a\\AD-Detection\\arch...      1\n",
       "1416  [C:\\Users\\rohan\\Desktop\\184a\\AD-Detection\\arch...      1\n",
       "\n",
       "[1417 rows x 2 columns]"
      ]
     },
     "execution_count": 2,
     "metadata": {},
     "output_type": "execute_result"
    }
   ],
   "source": [
    "# Create your DataFrame\n",
    "images = []\n",
    "labels = []\n",
    "for subfolder in tqdm(os.listdir(r'C:\\Users\\rohan\\Desktop\\184a\\AD-Detection\\archive')):\n",
    "    subfolder_path = os.path.join(r'C:\\Users\\rohan\\Desktop\\184a\\AD-Detection\\archive', subfolder)\n",
    "    label = 0\n",
    "    for folder in os.listdir(subfolder_path):\n",
    "        subfolder_path2 = os.path.join(subfolder_path, folder)\n",
    "        scan = []\n",
    "        img_num = 0\n",
    "        for image_filename in os.listdir(subfolder_path2):\n",
    "            image_path = os.path.join(subfolder_path2, image_filename)\n",
    "            scan.append(image_path)\n",
    "            img_num += 1\n",
    "            if img_num > 60:\n",
    "                images.append(scan)\n",
    "                if label == 2: # modded for binary classification\n",
    "                    labels.append(0)\n",
    "                else:\n",
    "                    labels.append(1)\n",
    "                img_num = 0\n",
    "                scan = []\n",
    "        label += 1\n",
    "\n",
    "df = pd.DataFrame({'image': images, 'label': labels})\n",
    "df"
   ]
  },
  {
   "cell_type": "code",
   "execution_count": 3,
   "metadata": {
    "execution": {
     "iopub.execute_input": "2024-11-24T23:27:19.494823Z",
     "iopub.status.busy": "2024-11-24T23:27:19.494392Z",
     "iopub.status.idle": "2024-11-24T23:27:19.533512Z",
     "shell.execute_reply": "2024-11-24T23:27:19.532353Z",
     "shell.execute_reply.started": "2024-11-24T23:27:19.494779Z"
    },
    "trusted": true
   },
   "outputs": [],
   "source": [
    "train_df, test_df = train_test_split(df, test_size=0.2, stratify=df['label'], shuffle=True, random_state=42)"
   ]
  },
  {
   "cell_type": "code",
   "execution_count": 4,
   "metadata": {
    "execution": {
     "iopub.execute_input": "2024-11-24T23:27:22.626181Z",
     "iopub.status.busy": "2024-11-24T23:27:22.625774Z",
     "iopub.status.idle": "2024-11-24T23:27:22.635274Z",
     "shell.execute_reply": "2024-11-24T23:27:22.634067Z",
     "shell.execute_reply.started": "2024-11-24T23:27:22.626144Z"
    },
    "trusted": true
   },
   "outputs": [],
   "source": [
    "class ADDataset(Dataset):\n",
    "    def __init__(self, dataframe, transform=None):\n",
    "        \"\"\"\n",
    "        Args:\n",
    "            dataframe (pd.DataFrame): DataFrame containing image paths (as lists) and labels.\n",
    "            transform (callable, optional): Optional transform to be applied on images.\n",
    "        \"\"\"\n",
    "        self.dataframe = dataframe\n",
    "        self.transform = transform\n",
    "\n",
    "    def __len__(self):\n",
    "        return len(self.dataframe)\n",
    "\n",
    "    def __getitem__(self, idx):\n",
    "        if torch.is_tensor(idx):\n",
    "            idx = idx.tolist()\n",
    "\n",
    "        # Get the list of image paths and the label\n",
    "        img_paths = self.dataframe.iloc[idx, 0]  # List of 61 image paths\n",
    "        label = self.dataframe.iloc[idx, 1]\n",
    "\n",
    "        # Load and process all images in the list\n",
    "        images = []\n",
    "        for img_path in img_paths:\n",
    "            image = Image.open(img_path).convert(\"RGB\")\n",
    "            if self.transform:\n",
    "                image = self.transform(image)\n",
    "            images.append(image)\n",
    "\n",
    "        # Stack the images into a tensor of shape (61, C, H, W)\n",
    "        images = torch.stack(images)  # Shape: (61, C, H, W)\n",
    "        label = torch.tensor(label, dtype=torch.long)\n",
    "\n",
    "        return images, label\n",
    "\n",
    "\n",
    "# Define transformations for each image\n",
    "transform = transforms.Compose([\n",
    "    transforms.Resize((176, 176)),  # Resize all images to 176x176\n",
    "    transforms.ToTensor(),         # Convert PIL image to tensor\n",
    "    transforms.Normalize(mean=[0.485, 0.456, 0.406], std=[0.229, 0.224, 0.225])  # Normalize with ImageNet stats\n",
    "])"
   ]
  },
  {
   "cell_type": "code",
   "execution_count": 5,
   "metadata": {
    "execution": {
     "iopub.execute_input": "2024-11-24T23:27:28.879342Z",
     "iopub.status.busy": "2024-11-24T23:27:28.878932Z",
     "iopub.status.idle": "2024-11-24T23:27:29.996737Z",
     "shell.execute_reply": "2024-11-24T23:27:29.995415Z",
     "shell.execute_reply.started": "2024-11-24T23:27:28.879306Z"
    },
    "trusted": true
   },
   "outputs": [
    {
     "name": "stdout",
     "output_type": "stream",
     "text": [
      "1133 284\n",
      "Training DataLoader:\n",
      "torch.Size([8, 61, 3, 176, 176])\n",
      "tensor([1, 0, 1, 1, 0, 0, 1, 0])\n",
      "Testing DataLoader:\n",
      "torch.Size([8, 61, 3, 176, 176])\n",
      "tensor([1, 0, 0, 0, 0, 0, 1, 0])\n"
     ]
    }
   ],
   "source": [
    "# Create Datasets for training and testing\n",
    "train_dataset = ADDataset(train_df, transform=transform)\n",
    "test_dataset = ADDataset(test_df, transform=transform)\n",
    "\n",
    "print(len(train_dataset), len(test_dataset))\n",
    "\n",
    "\n",
    "# Create DataLoaders\n",
    "batch_size = 8\n",
    "train_dataloader = DataLoader(train_dataset, batch_size=batch_size, shuffle=True)\n",
    "test_dataloader = DataLoader(test_dataset, batch_size=batch_size, shuffle=False)\n",
    "\n",
    "\n",
    "# Test the DataLoader\n",
    "print(\"Training DataLoader:\")\n",
    "for images, labels in train_dataloader:\n",
    "    print(images.shape)  # Should be [batch_size, 3, 176, 176]\n",
    "    print(labels)        # Corresponding labels\n",
    "    break\n",
    "\n",
    "print(\"Testing DataLoader:\")\n",
    "for images, labels in test_dataloader:\n",
    "    print(images.shape)  # Should be [batch_size, 3, 176, 176]\n",
    "    print(labels)        # Corresponding labels\n",
    "    break"
   ]
  },
  {
   "cell_type": "markdown",
   "metadata": {},
   "source": [
    "### CNN with Feature Extraction Blocks (Inspired by DEMNET)"
   ]
  },
  {
   "cell_type": "code",
   "execution_count": 6,
   "metadata": {
    "execution": {
     "iopub.execute_input": "2024-11-24T23:27:41.695517Z",
     "iopub.status.busy": "2024-11-24T23:27:41.695029Z",
     "iopub.status.idle": "2024-11-24T23:27:41.710046Z",
     "shell.execute_reply": "2024-11-24T23:27:41.708717Z",
     "shell.execute_reply.started": "2024-11-24T23:27:41.695474Z"
    },
    "trusted": true
   },
   "outputs": [],
   "source": [
    "class FeatureExtractionBlock(nn.Module):\n",
    "    def __init__(self, in_channels, out_channels):\n",
    "        super(FeatureExtractionBlock, self).__init__()\n",
    "        self.conv1 = nn.Conv2d(in_channels, out_channels, kernel_size=3, stride=1, padding=1)\n",
    "        self.conv2 = nn.Conv2d(out_channels, out_channels, kernel_size=3, stride=1, padding=1)\n",
    "        self.batch_norm = nn.BatchNorm2d(out_channels)\n",
    "        self.max_pool = nn.MaxPool2d(kernel_size=2, stride=2)\n",
    "\n",
    "    def forward(self, x):\n",
    "        x = F.relu(self.conv1(x))\n",
    "        x = F.relu(self.conv2(x))\n",
    "        x = self.batch_norm(x)\n",
    "        x = self.max_pool(x)\n",
    "        return x\n",
    "\n",
    "\n",
    "class ADCNN(nn.Module):\n",
    "    def __init__(self, dropout_rate=0.25):\n",
    "        super(ADCNN, self).__init__()\n",
    "\n",
    "        self.feature_extractor = nn.Sequential(\n",
    "            nn.Conv2d(in_channels=3, out_channels=16, kernel_size=3, stride=1, padding=1),\n",
    "            nn.ReLU(),\n",
    "            nn.Conv2d(in_channels=16, out_channels=16, kernel_size=3, stride=1, padding=1),\n",
    "            nn.ReLU(),\n",
    "            nn.MaxPool2d(kernel_size=2, stride=2),\n",
    "            FeatureExtractionBlock(16, 32),  # Output: 32 channels\n",
    "            FeatureExtractionBlock(32, 64),  # Output: 64 channels\n",
    "            FeatureExtractionBlock(64, 128),  # Output: 128 channels\n",
    "            FeatureExtractionBlock(128, 256),  # Output: 256 channels\n",
    "        )\n",
    "\n",
    "        self.dropout1 = nn.Dropout(p=dropout_rate)\n",
    "        self.dropout2 = nn.Dropout(p=dropout_rate)\n",
    "        \n",
    "        # Fully connected layers\n",
    "        self.fc1 = nn.Linear(256 * 5 * 5, 512)\n",
    "        self.fc2 = nn.Linear(512, 128)\n",
    "        self.fc3 = nn.Linear(128, 64) \n",
    "        self.fc4 = nn.Linear(64, 2)\n",
    "        \n",
    "    def forward(self, x):\n",
    "        # Input: (batch_size, 61, 3, 176, 176)\n",
    "        batch_size, seq_len, channels, height, width = x.shape\n",
    "\n",
    "        # Flatten temporal dimension and process each image\n",
    "        x = x.view(batch_size * seq_len, channels, height, width)  # Shape: (batch_size * 61, 3, 176, 176)\n",
    "        x = self.feature_extractor(x)  # Extract features: Shape (batch_size * 61, 256, 5, 5)\n",
    "\n",
    "        # Flatten the spatial dimensions\n",
    "        x = torch.flatten(x, start_dim=1)  # Shape: (batch_size * 61, 256 * 5 * 5)\n",
    "\n",
    "        # Reshape to (batch_size, seq_len, -1) for aggregation\n",
    "        x = x.view(batch_size, seq_len, -1)  # Shape: (batch_size, 61, 256 * 5 * 5)\n",
    "\n",
    "        # Aggregate features across the sequence dimension\n",
    "        x = torch.mean(x, dim=1)  # Shape: (batch_size, 256 * 5 * 5)\n",
    "\n",
    "        # Fully connected layers\n",
    "        x = self.dropout1(x)\n",
    "        x = F.relu(self.fc1(x))\n",
    "        x = F.relu(self.fc2(x))\n",
    "        x = F.relu(self.fc3(x))\n",
    "        x = self.fc4(x)  # Final output: (batch_size, 4)\n",
    "\n",
    "        return x\n"
   ]
  },
  {
   "cell_type": "code",
   "execution_count": 7,
   "metadata": {
    "execution": {
     "iopub.execute_input": "2024-11-24T23:27:45.128724Z",
     "iopub.status.busy": "2024-11-24T23:27:45.128328Z",
     "iopub.status.idle": "2024-11-24T23:27:45.187018Z",
     "shell.execute_reply": "2024-11-24T23:27:45.185579Z",
     "shell.execute_reply.started": "2024-11-24T23:27:45.128686Z"
    },
    "trusted": true
   },
   "outputs": [
    {
     "name": "stdout",
     "output_type": "stream",
     "text": [
      "cuda:0\n"
     ]
    }
   ],
   "source": [
    "device = torch.device(\"cuda:0\" if torch.cuda.is_available() else \"cpu\")\n",
    "print(device)\n",
    "\n",
    "model = ADCNN()"
   ]
  },
  {
   "cell_type": "markdown",
   "metadata": {},
   "source": [
    "### Training"
   ]
  },
  {
   "cell_type": "code",
   "execution_count": 10,
   "metadata": {
    "execution": {
     "iopub.execute_input": "2024-11-24T23:27:47.463636Z",
     "iopub.status.busy": "2024-11-24T23:27:47.463255Z",
     "iopub.status.idle": "2024-11-24T23:27:58.827995Z",
     "shell.execute_reply": "2024-11-24T23:27:58.826162Z",
     "shell.execute_reply.started": "2024-11-24T23:27:47.463601Z"
    },
    "trusted": true
   },
   "outputs": [
    {
     "name": "stdout",
     "output_type": "stream",
     "text": [
      "torch.Size([8, 61, 3, 176, 176]) torch.Size([8])\n",
      "Epoch [1/50], Loss: 0.4877, Accuracy: 78.46%\n",
      "Epoch [2/50], Loss: 0.4262, Accuracy: 78.55%\n",
      "Epoch [3/50], Loss: 0.3349, Accuracy: 84.02%\n",
      "Epoch [4/50], Loss: 0.3340, Accuracy: 82.61%\n",
      "Epoch [5/50], Loss: 0.3176, Accuracy: 83.85%\n",
      "Epoch [6/50], Loss: 0.3104, Accuracy: 83.58%\n",
      "Epoch [7/50], Loss: 0.2966, Accuracy: 85.35%\n",
      "Epoch [8/50], Loss: 0.2591, Accuracy: 87.64%\n",
      "Epoch [9/50], Loss: 0.2956, Accuracy: 85.97%\n",
      "Epoch [10/50], Loss: 0.2625, Accuracy: 86.41%\n",
      "Epoch [11/50], Loss: 0.2455, Accuracy: 88.35%\n",
      "Epoch [12/50], Loss: 0.2155, Accuracy: 89.85%\n",
      "Epoch [13/50], Loss: 0.1674, Accuracy: 92.59%\n",
      "Epoch [14/50], Loss: 0.2016, Accuracy: 91.79%\n",
      "Epoch [15/50], Loss: 0.1764, Accuracy: 94.00%\n",
      "Epoch [16/50], Loss: 0.0959, Accuracy: 96.91%\n",
      "Epoch [17/50], Loss: 0.0893, Accuracy: 96.20%\n",
      "Epoch [18/50], Loss: 0.1460, Accuracy: 96.91%\n",
      "Epoch [19/50], Loss: 0.0681, Accuracy: 97.71%\n",
      "Epoch [20/50], Loss: 0.0387, Accuracy: 98.41%\n",
      "Epoch [21/50], Loss: 0.0635, Accuracy: 97.62%\n"
     ]
    },
    {
     "ename": "KeyboardInterrupt",
     "evalue": "",
     "output_type": "error",
     "traceback": [
      "\u001b[1;31m---------------------------------------------------------------------------\u001b[0m",
      "\u001b[1;31mKeyboardInterrupt\u001b[0m                         Traceback (most recent call last)",
      "Cell \u001b[1;32mIn[10], line 60\u001b[0m\n\u001b[0;32m     55\u001b[0m             torch\u001b[38;5;241m.\u001b[39msave(model\u001b[38;5;241m.\u001b[39mstate_dict(), \u001b[38;5;124mr\u001b[39m\u001b[38;5;124m'\u001b[39m\u001b[38;5;124mC:\u001b[39m\u001b[38;5;124m\\\u001b[39m\u001b[38;5;124mUsers\u001b[39m\u001b[38;5;124m\\\u001b[39m\u001b[38;5;124mrohan\u001b[39m\u001b[38;5;124m\\\u001b[39m\u001b[38;5;124mDesktop\u001b[39m\u001b[38;5;124m\\\u001b[39m\u001b[38;5;124m184a\u001b[39m\u001b[38;5;124m\\\u001b[39m\u001b[38;5;124mAD-Detection\u001b[39m\u001b[38;5;124m\\\u001b[39m\u001b[38;5;124mtrained.pth\u001b[39m\u001b[38;5;124m'\u001b[39m)\n\u001b[0;32m     57\u001b[0m     \u001b[38;5;28mprint\u001b[39m(\u001b[38;5;124m'\u001b[39m\u001b[38;5;124mTraining Finished!\u001b[39m\u001b[38;5;124m'\u001b[39m)\n\u001b[1;32m---> 60\u001b[0m \u001b[43mtrain_model\u001b[49m\u001b[43m(\u001b[49m\u001b[43mmodel\u001b[49m\u001b[43m,\u001b[49m\u001b[43m \u001b[49m\u001b[43mtrain_dataloader\u001b[49m\u001b[43m \u001b[49m\u001b[43m,\u001b[49m\u001b[43m \u001b[49m\u001b[43mnum_epochs\u001b[49m\u001b[38;5;241;43m=\u001b[39;49m\u001b[38;5;241;43m50\u001b[39;49m\u001b[43m,\u001b[49m\u001b[43m \u001b[49m\u001b[43mlearning_rate\u001b[49m\u001b[38;5;241;43m=\u001b[39;49m\u001b[38;5;241;43m0.001\u001b[39;49m\u001b[43m,\u001b[49m\u001b[43m \u001b[49m\u001b[43mdevice\u001b[49m\u001b[38;5;241;43m=\u001b[39;49m\u001b[38;5;124;43m'\u001b[39;49m\u001b[38;5;124;43mcuda\u001b[39;49m\u001b[38;5;124;43m'\u001b[39;49m\u001b[43m)\u001b[49m\n\u001b[0;32m     61\u001b[0m torch\u001b[38;5;241m.\u001b[39msave(model\u001b[38;5;241m.\u001b[39mstate_dict(), \u001b[38;5;124mr\u001b[39m\u001b[38;5;124m'\u001b[39m\u001b[38;5;124mC:\u001b[39m\u001b[38;5;124m\\\u001b[39m\u001b[38;5;124mUsers\u001b[39m\u001b[38;5;124m\\\u001b[39m\u001b[38;5;124mrohan\u001b[39m\u001b[38;5;124m\\\u001b[39m\u001b[38;5;124mDesktop\u001b[39m\u001b[38;5;124m\\\u001b[39m\u001b[38;5;124m184a\u001b[39m\u001b[38;5;124m\\\u001b[39m\u001b[38;5;124mAD-Detection\u001b[39m\u001b[38;5;124m\\\u001b[39m\u001b[38;5;124mtrained.pth\u001b[39m\u001b[38;5;124m'\u001b[39m)\n",
      "Cell \u001b[1;32mIn[10], line 42\u001b[0m, in \u001b[0;36mtrain_model\u001b[1;34m(model, train_loader, num_epochs, learning_rate, device)\u001b[0m\n\u001b[0;32m     39\u001b[0m optimizer\u001b[38;5;241m.\u001b[39mstep()\n\u001b[0;32m     41\u001b[0m \u001b[38;5;66;03m# Track running loss\u001b[39;00m\n\u001b[1;32m---> 42\u001b[0m running_loss \u001b[38;5;241m+\u001b[39m\u001b[38;5;241m=\u001b[39m \u001b[43mloss\u001b[49m\u001b[38;5;241;43m.\u001b[39;49m\u001b[43mitem\u001b[49m\u001b[43m(\u001b[49m\u001b[43m)\u001b[49m\n\u001b[0;32m     44\u001b[0m \u001b[38;5;66;03m# Calculate accuracy\u001b[39;00m\n\u001b[0;32m     45\u001b[0m _, predicted \u001b[38;5;241m=\u001b[39m torch\u001b[38;5;241m.\u001b[39mmax(outputs\u001b[38;5;241m.\u001b[39mdata, \u001b[38;5;241m1\u001b[39m)\n",
      "\u001b[1;31mKeyboardInterrupt\u001b[0m: "
     ]
    }
   ],
   "source": [
    "\n",
    "for inputs, labels in train_dataloader:\n",
    "    print(inputs.shape, labels.shape)\n",
    "    break\n",
    "\n",
    "def train_model(model, train_loader, num_epochs=20, learning_rate=0.001, device='cuda'):\n",
    "    # Move model to the selected device (GPU or CPU)\n",
    "    model.to(device)\n",
    "    \n",
    "    # Initialize RMSprop optimizer\n",
    "    optimizer = optim.RMSprop(model.parameters(), lr=learning_rate)\n",
    "    \n",
    "    # Loss function (CrossEntropy for classification)\n",
    "    criterion = torch.nn.CrossEntropyLoss()\n",
    "\n",
    "    # Training loop\n",
    "    for epoch in range(num_epochs):\n",
    "        model.train()  # Set the model to training mode\n",
    "        running_loss = 0.0\n",
    "        correct = 0\n",
    "        total = 0\n",
    "        \n",
    "        for batch_idx, (inputs, labels) in enumerate(train_loader):\n",
    "            # Move data to the selected device\n",
    "            inputs, labels = inputs.to(device), labels.to(device)\n",
    "            \n",
    "            # Zero the parameter gradients\n",
    "            optimizer.zero_grad()\n",
    "\n",
    "            # Forward pass\n",
    "            outputs = model(inputs)\n",
    "\n",
    "            # Calculate loss\n",
    "            loss = criterion(outputs, labels)\n",
    "\n",
    "            # Backward pass (backpropagation)\n",
    "            loss.backward()\n",
    "\n",
    "            # Update weights\n",
    "            optimizer.step()\n",
    "\n",
    "            # Track running loss\n",
    "            running_loss += loss.item()\n",
    "\n",
    "            # Calculate accuracy\n",
    "            _, predicted = torch.max(outputs.data, 1)\n",
    "            total += labels.size(0)\n",
    "            correct += (predicted == labels).sum().item()\n",
    "\n",
    "        # Print stats for the epoch\n",
    "        epoch_loss = running_loss / len(train_loader)\n",
    "        epoch_acc = 100 * correct / total\n",
    "        print(f\"Epoch [{epoch+1}/{num_epochs}], Loss: {epoch_loss:.4f}, Accuracy: {epoch_acc:.2f}%\")\n",
    "\n",
    "        if epoch % 5 == 0:\n",
    "            torch.save(model.state_dict(), r'C:\\Users\\rohan\\Desktop\\184a\\AD-Detection\\trained.pth')\n",
    "     \n",
    "    print('Training Finished!')\n",
    "\n",
    "\n",
    "train_model(model, train_dataloader , num_epochs=20, learning_rate=0.001, device='cuda')\n",
    "torch.save(model.state_dict(), r'C:\\Users\\rohan\\Desktop\\184a\\AD-Detection\\trained.pth')"
   ]
  },
  {
   "cell_type": "code",
   "execution_count": 13,
   "metadata": {},
   "outputs": [
    {
     "data": {
      "image/png": "[encoded data removed]",
      "text/plain": [
       "<Figure size 1000x500 with 2 Axes>"
      ]
     },
     "metadata": {},
     "output_type": "display_data"
    }
   ],
   "source": [
    "import matplotlib.pyplot as plt\n",
    "\n",
    "# Corrected Training data from your log \n",
    "epochs = list(range(1, 22))  # Using 21 epochs\n",
    "losses = [\n",
    "    0.4877, 0.4262, 0.3349, 0.3340, 0.3176, 0.3104, 0.2966, 0.2591, 0.2956, 0.2625,\n",
    "    0.2455, 0.2155, 0.1674, 0.2016, 0.1764, 0.0959, 0.0893, 0.1460, 0.0681, 0.0387, 0.0635\n",
    "]\n",
    "accuracies = [\n",
    "    78.46, 78.55, 84.02, 82.61, 83.85, 83.58, 85.35, 87.64, 85.97, 86.41,\n",
    "    88.35, 89.85, 92.59, 91.79, 94.00, 96.91, 96.20, 96.91, 97.71, 98.41, 97.62\n",
    "]\n",
    "\n",
    "# Plot Loss\n",
    "plt.figure(figsize=(10, 5))\n",
    "plt.subplot(1, 2, 1)\n",
    "plt.plot(epochs, losses, label='Loss', color='red', marker='o')\n",
    "plt.title('Training Loss')\n",
    "plt.xlabel('Epochs')\n",
    "plt.ylabel('Loss')\n",
    "plt.grid(True)\n",
    "\n",
    "# Plot Accuracy\n",
    "plt.subplot(1, 2, 2)\n",
    "plt.plot(epochs, accuracies, label='Accuracy', color='blue', marker='o')\n",
    "plt.title('Training Accuracy')\n",
    "plt.xlabel('Epochs')\n",
    "plt.ylabel('Accuracy (%)')\n",
    "plt.grid(True)\n",
    "\n",
    "# Show the plot\n",
    "plt.tight_layout()\n",
    "plt.show()\n"
   ]
  },
  {
   "cell_type": "code",
   "execution_count": null,
   "metadata": {},
   "outputs": [],
   "source": [
    "torch.save(model.state_dict(), r'C:\\Users\\rohan\\Desktop\\184a\\AD-Detection\\trained.pth')"
   ]
  },
  {
   "cell_type": "code",
   "execution_count": 11,
   "metadata": {},
   "outputs": [
    {
     "name": "stderr",
     "output_type": "stream",
     "text": [
      "C:\\Users\\rohan\\AppData\\Local\\Temp\\ipykernel_16876\\237112544.py:3: FutureWarning: You are using `torch.load` with `weights_only=False` (the current default value), which uses the default pickle module implicitly. It is possible to construct malicious pickle data which will execute arbitrary code during unpickling (See https://github.com/pytorch/pytorch/blob/main/SECURITY.md#untrusted-models for more details). In a future release, the default value for `weights_only` will be flipped to `True`. This limits the functions that could be executed during unpickling. Arbitrary objects will no longer be allowed to be loaded via this mode unless they are explicitly allowlisted by the user via `torch.serialization.add_safe_globals`. We recommend you start setting `weights_only=True` for any use case where you don't have full control of the loaded file. Please open an issue on GitHub for any issues related to this experimental feature.\n",
      "  model.load_state_dict(torch.load(r'C:\\Users\\rohan\\Desktop\\184a\\AD-Detection\\trained.pth'))\n"
     ]
    },
    {
     "data": {
      "text/plain": [
       "<All keys matched successfully>"
      ]
     },
     "execution_count": 11,
     "metadata": {},
     "output_type": "execute_result"
    }
   ],
   "source": [
    "device = torch.device(\"cuda:0\" if torch.cuda.is_available() else \"cpu\")\n",
    "model = ADCNN().to(device)\n",
    "model.load_state_dict(torch.load(r'C:\\Users\\rohan\\Desktop\\184a\\AD-Detection\\trained.pth'))"
   ]
  },
  {
   "cell_type": "markdown",
   "metadata": {},
   "source": [
    "### Evaluating"
   ]
  },
  {
   "cell_type": "code",
   "execution_count": 12,
   "metadata": {},
   "outputs": [
    {
     "name": "stdout",
     "output_type": "stream",
     "text": [
      "torch.Size([8, 61, 3, 176, 176]) torch.Size([8])\n",
      "Confusion Matrix of the Test Set\n",
      "-----------\n",
      "[[220   1]\n",
      " [ 35  28]]\n",
      "Precision of the Model :\t0.8855\n",
      "Recall of the Model    :\t0.8732\n",
      "F1 Score of the Model  :\t0.8543\n"
     ]
    }
   ],
   "source": [
    "from sklearn.metrics import confusion_matrix, precision_score, recall_score, f1_score\n",
    "import itertools\n",
    "import torch\n",
    "\n",
    "for inputs, labels in test_dataloader:\n",
    "    print(inputs.shape, labels.shape)\n",
    "    break\n",
    "\n",
    "def evaluate_model(model, test_loader, device='cuda'):\n",
    "    y_pred_list = []\n",
    "    y_target_list = []\n",
    "\n",
    "    model.eval()  # Set the model to evaluation mode\n",
    "    with torch.no_grad():  # No gradient calculations needed\n",
    "        for inputs, labels in test_loader:\n",
    "            # Move data to the selected device\n",
    "            inputs, labels = inputs.to(device), labels.to(device)\n",
    "\n",
    "            # Get model predictions\n",
    "            outputs = model(inputs)\n",
    "            _, y_pred = torch.max(outputs, 1)  # Predicted labels\n",
    "            \n",
    "            y_pred_list.append(y_pred.cpu().numpy())  # Move to CPU for metrics\n",
    "            y_target_list.append(labels.cpu().numpy())  # Move to CPU for metrics\n",
    "\n",
    "    # Flatten the predictions and targets\n",
    "    y_pred_list = list(itertools.chain.from_iterable(y_pred_list))\n",
    "    y_target_list = list(itertools.chain.from_iterable(y_target_list))\n",
    "\n",
    "    # Confusion Matrix\n",
    "    conf_matrix = confusion_matrix(y_target_list, y_pred_list)\n",
    "    print(\"Confusion Matrix of the Test Set\")\n",
    "    print(\"-----------\")\n",
    "    print(conf_matrix)\n",
    "\n",
    "    # Calculate metrics\n",
    "    precision = precision_score(y_target_list, y_pred_list, average='weighted')\n",
    "    recall = recall_score(y_target_list, y_pred_list, average='weighted')\n",
    "    f1 = f1_score(y_target_list, y_pred_list, average='weighted')\n",
    "\n",
    "    print(f\"Precision of the Model :\\t{precision:.4f}\")\n",
    "    print(f\"Recall of the Model    :\\t{recall:.4f}\")\n",
    "    print(f\"F1 Score of the Model  :\\t{f1:.4f}\")\n",
    "\n",
    "# Call the evaluation function\n",
    "evaluate_model(model, test_dataloader, device='cuda')\n"
   ]
  }
 ],
 "metadata": {
  "kaggle": {
   "accelerator": "none",
   "dataSources": [
    {
     "datasetId": 3419493,
     "sourceId": 5962731,
     "sourceType": "datasetVersion"
    }
   ],
   "dockerImageVersionId": 30786,
   "isGpuEnabled": false,
   "isInternetEnabled": false,
   "language": "python",
   "sourceType": "notebook"
  },
  "kernelspec": {
   "display_name": "myenv",
   "language": "python",
   "name": "python3"
  },
  "language_info": {
   "codemirror_mode": {
    "name": "ipython",
    "version": 3
   },
   "file_extension": ".py",
   "mimetype": "text/x-python",
   "name": "python",
   "nbconvert_exporter": "python",
   "pygments_lexer": "ipython3",
   "version": "3.11.7"
  }
 },
 "nbformat": 4,
 "nbformat_minor": 4
}
