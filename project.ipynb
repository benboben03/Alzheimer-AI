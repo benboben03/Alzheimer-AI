{
 "cells": [
  {
   "cell_type": "markdown",
   "metadata": {},
   "source": [
    "# CS184A Final Project: Alzheimer's Detection using CNN"
   ]
  },
  {
   "cell_type": "markdown",
   "metadata": {},
   "source": [
    "Group 37: Jason Dunn, Rohan Jayasekara, Ben Boben"
   ]
  },
  {
   "cell_type": "markdown",
   "metadata": {},
   "source": [
    "Dataset: https://www.kaggle.com/datasets/ninadaithal/imagesoasis/"
   ]
  },
  {
   "cell_type": "markdown",
   "metadata": {},
   "source": [
    "### Dependencies"
   ]
  },
  {
   "cell_type": "code",
   "execution_count": 37,
   "metadata": {},
   "outputs": [],
   "source": [
    "import os\n",
    "import pandas as pd\n",
    "from tqdm import tqdm\n",
    "from PIL import Image\n",
    "from torch.utils.data import Dataset, DataLoader\n",
    "import torchvision.transforms as transforms\n",
    "import torch\n",
    "import torch.nn as nn\n",
    "import torch.nn.functional as F\n",
    "import torch.optim as optim"
   ]
  },
  {
   "cell_type": "markdown",
   "metadata": {},
   "source": [
    "### Load in data in small amount of scans from OASIS dataset for evaluation in <1 min"
   ]
  },
  {
   "cell_type": "code",
   "execution_count": null,
   "metadata": {},
   "outputs": [
    {
     "name": "stdout",
     "output_type": "stream",
     "text": [
      "c:\\Users\\rohan\\Desktop\\184a\\AD-Detection\\archive3\n"
     ]
    }
   ],
   "source": [
    "current_folder = os.getcwd()\n",
    "data_path = os.path.join(current_folder, 'src', 'archive')\n",
    "print(data_path)"
   ]
  },
  {
   "cell_type": "markdown",
   "metadata": {},
   "source": [
    "Each scan consists of 61 JPG images"
   ]
  },
  {
   "cell_type": "markdown",
   "metadata": {},
   "source": [
    "We simplified our problem to a binary classification so there are only two labels: Non Demented and Demented."
   ]
  },
  {
   "cell_type": "code",
   "execution_count": 39,
   "metadata": {},
   "outputs": [
    {
     "name": "stderr",
     "output_type": "stream",
     "text": [
      "100%|██████████| 1/1 [00:00<00:00, 20.00it/s]"
     ]
    },
    {
     "name": "stdout",
     "output_type": "stream",
     "text": [
      "c:\\Users\\rohan\\Desktop\\184a\\AD-Detection\\archive3\\Data\\Mild-Dementia\n",
      "c:\\Users\\rohan\\Desktop\\184a\\AD-Detection\\archive3\\Data\\Moderate-Dementia\n",
      "c:\\Users\\rohan\\Desktop\\184a\\AD-Detection\\archive3\\Data\\Non-Demented\n",
      "c:\\Users\\rohan\\Desktop\\184a\\AD-Detection\\archive3\\Data\\Very-mild-Dementia\n"
     ]
    },
    {
     "name": "stderr",
     "output_type": "stream",
     "text": [
      "\n"
     ]
    },
    {
     "data": {
      "text/html": [
       "<div>\n",
       "<style scoped>\n",
       "    .dataframe tbody tr th:only-of-type {\n",
       "        vertical-align: middle;\n",
       "    }\n",
       "\n",
       "    .dataframe tbody tr th {\n",
       "        vertical-align: top;\n",
       "    }\n",
       "\n",
       "    .dataframe thead th {\n",
       "        text-align: right;\n",
       "    }\n",
       "</style>\n",
       "<table border=\"1\" class=\"dataframe\">\n",
       "  <thead>\n",
       "    <tr style=\"text-align: right;\">\n",
       "      <th></th>\n",
       "      <th>image</th>\n",
       "      <th>label</th>\n",
       "    </tr>\n",
       "  </thead>\n",
       "  <tbody>\n",
       "    <tr>\n",
       "      <th>0</th>\n",
       "      <td>[c:\\Users\\rohan\\Desktop\\184a\\AD-Detection\\arch...</td>\n",
       "      <td>1</td>\n",
       "    </tr>\n",
       "    <tr>\n",
       "      <th>1</th>\n",
       "      <td>[c:\\Users\\rohan\\Desktop\\184a\\AD-Detection\\arch...</td>\n",
       "      <td>1</td>\n",
       "    </tr>\n",
       "    <tr>\n",
       "      <th>2</th>\n",
       "      <td>[c:\\Users\\rohan\\Desktop\\184a\\AD-Detection\\arch...</td>\n",
       "      <td>1</td>\n",
       "    </tr>\n",
       "    <tr>\n",
       "      <th>3</th>\n",
       "      <td>[c:\\Users\\rohan\\Desktop\\184a\\AD-Detection\\arch...</td>\n",
       "      <td>1</td>\n",
       "    </tr>\n",
       "    <tr>\n",
       "      <th>4</th>\n",
       "      <td>[c:\\Users\\rohan\\Desktop\\184a\\AD-Detection\\arch...</td>\n",
       "      <td>1</td>\n",
       "    </tr>\n",
       "    <tr>\n",
       "      <th>...</th>\n",
       "      <td>...</td>\n",
       "      <td>...</td>\n",
       "    </tr>\n",
       "    <tr>\n",
       "      <th>133</th>\n",
       "      <td>[c:\\Users\\rohan\\Desktop\\184a\\AD-Detection\\arch...</td>\n",
       "      <td>1</td>\n",
       "    </tr>\n",
       "    <tr>\n",
       "      <th>134</th>\n",
       "      <td>[c:\\Users\\rohan\\Desktop\\184a\\AD-Detection\\arch...</td>\n",
       "      <td>1</td>\n",
       "    </tr>\n",
       "    <tr>\n",
       "      <th>135</th>\n",
       "      <td>[c:\\Users\\rohan\\Desktop\\184a\\AD-Detection\\arch...</td>\n",
       "      <td>1</td>\n",
       "    </tr>\n",
       "    <tr>\n",
       "      <th>136</th>\n",
       "      <td>[c:\\Users\\rohan\\Desktop\\184a\\AD-Detection\\arch...</td>\n",
       "      <td>1</td>\n",
       "    </tr>\n",
       "    <tr>\n",
       "      <th>137</th>\n",
       "      <td>[c:\\Users\\rohan\\Desktop\\184a\\AD-Detection\\arch...</td>\n",
       "      <td>1</td>\n",
       "    </tr>\n",
       "  </tbody>\n",
       "</table>\n",
       "<p>138 rows × 2 columns</p>\n",
       "</div>"
      ],
      "text/plain": [
       "                                                 image  label\n",
       "0    [c:\\Users\\rohan\\Desktop\\184a\\AD-Detection\\arch...      1\n",
       "1    [c:\\Users\\rohan\\Desktop\\184a\\AD-Detection\\arch...      1\n",
       "2    [c:\\Users\\rohan\\Desktop\\184a\\AD-Detection\\arch...      1\n",
       "3    [c:\\Users\\rohan\\Desktop\\184a\\AD-Detection\\arch...      1\n",
       "4    [c:\\Users\\rohan\\Desktop\\184a\\AD-Detection\\arch...      1\n",
       "..                                                 ...    ...\n",
       "133  [c:\\Users\\rohan\\Desktop\\184a\\AD-Detection\\arch...      1\n",
       "134  [c:\\Users\\rohan\\Desktop\\184a\\AD-Detection\\arch...      1\n",
       "135  [c:\\Users\\rohan\\Desktop\\184a\\AD-Detection\\arch...      1\n",
       "136  [c:\\Users\\rohan\\Desktop\\184a\\AD-Detection\\arch...      1\n",
       "137  [c:\\Users\\rohan\\Desktop\\184a\\AD-Detection\\arch...      1\n",
       "\n",
       "[138 rows x 2 columns]"
      ]
     },
     "execution_count": 39,
     "metadata": {},
     "output_type": "execute_result"
    }
   ],
   "source": [
    "# Create your DataFrame\n",
    "images = []\n",
    "labels = []\n",
    "for subfolder in tqdm(os.listdir(data_path)):\n",
    "    subfolder_path = os.path.join(data_path, subfolder)\n",
    "    label = 0\n",
    "    for folder in os.listdir(subfolder_path):\n",
    "        subfolder_path2 = os.path.join(subfolder_path, folder)\n",
    "        print(subfolder_path2)\n",
    "        scan = []\n",
    "        img_num = 0\n",
    "        for image_filename in os.listdir(subfolder_path2):\n",
    "            image_path = os.path.join(subfolder_path2, image_filename)\n",
    "            scan.append(image_path)\n",
    "            img_num += 1\n",
    "            if img_num > 60:\n",
    "                images.append(scan)\n",
    "                if label == 2: # modded for binary classification\n",
    "                    labels.append(0)\n",
    "                else:\n",
    "                    labels.append(1)\n",
    "                img_num = 0\n",
    "                scan = []\n",
    "        label += 1\n",
    "\n",
    "df = pd.DataFrame({'image': images, 'label': labels})\n",
    "df"
   ]
  },
  {
   "cell_type": "markdown",
   "metadata": {},
   "source": [
    "### Custom Dataset applying resizing and normalization"
   ]
  },
  {
   "cell_type": "code",
   "execution_count": 40,
   "metadata": {},
   "outputs": [],
   "source": [
    "class ADDataset(Dataset):\n",
    "    def __init__(self, dataframe, transform=None):\n",
    "\n",
    "        self.dataframe = dataframe\n",
    "        self.transform = transform\n",
    "\n",
    "    def __len__(self):\n",
    "        return len(self.dataframe)\n",
    "\n",
    "    def __getitem__(self, idx):\n",
    "        if torch.is_tensor(idx):\n",
    "            idx = idx.tolist()\n",
    "\n",
    "        img_paths = self.dataframe.iloc[idx, 0]  # List of 61 image paths\n",
    "        label = self.dataframe.iloc[idx, 1]\n",
    "\n",
    "        # Load and process images\n",
    "        images = []\n",
    "        for img_path in img_paths:\n",
    "            image = Image.open(img_path).convert(\"RGB\")\n",
    "            if self.transform:\n",
    "                image = self.transform(image)\n",
    "            images.append(image)\n",
    "\n",
    "        # Stack the images into a tensor of shape\n",
    "        images = torch.stack(images)\n",
    "        label = torch.tensor(label, dtype=torch.long)\n",
    "\n",
    "        return images, label\n",
    "\n",
    "# Define transformations for each image\n",
    "transform = transforms.Compose([\n",
    "    transforms.Resize((176, 176)),  # Resize all images to 176x176\n",
    "    transforms.ToTensor(),\n",
    "    transforms.Normalize(mean=[0.485, 0.456, 0.406], std=[0.229, 0.224, 0.225])  # Normalize with ImageNet stats\n",
    "])"
   ]
  },
  {
   "cell_type": "code",
   "execution_count": 41,
   "metadata": {},
   "outputs": [],
   "source": [
    "test_dataset = ADDataset(dataframe=df, transform=transform)\n",
    "batch_size = 8\n",
    "test_dataloader = DataLoader(test_dataset, batch_size=batch_size, shuffle=False)"
   ]
  },
  {
   "cell_type": "markdown",
   "metadata": {},
   "source": [
    "### CNN Model"
   ]
  },
  {
   "cell_type": "markdown",
   "metadata": {},
   "source": [
    "Utilizes 4 feature extraction blocks"
   ]
  },
  {
   "cell_type": "code",
   "execution_count": 42,
   "metadata": {},
   "outputs": [],
   "source": [
    "class FeatureExtractionBlock(nn.Module):\n",
    "    def __init__(self, in_channels, out_channels):\n",
    "        super(FeatureExtractionBlock, self).__init__()\n",
    "        self.conv1 = nn.Conv2d(in_channels, out_channels, kernel_size=3, stride=1, padding=1)\n",
    "        self.conv2 = nn.Conv2d(out_channels, out_channels, kernel_size=3, stride=1, padding=1)\n",
    "        self.batch_norm = nn.BatchNorm2d(out_channels)\n",
    "        self.max_pool = nn.MaxPool2d(kernel_size=2, stride=2)\n",
    "\n",
    "    def forward(self, x):\n",
    "        x = F.relu(self.conv1(x))\n",
    "        x = F.relu(self.conv2(x))\n",
    "        x = self.batch_norm(x)\n",
    "        x = self.max_pool(x)\n",
    "        return x\n",
    "\n",
    "\n",
    "class ADCNN(nn.Module):\n",
    "    def __init__(self, dropout_rate=0.25):\n",
    "        super(ADCNN, self).__init__()\n",
    "\n",
    "        self.feature_extractor = nn.Sequential(\n",
    "            nn.Conv2d(in_channels=3, out_channels=16, kernel_size=3, stride=1, padding=1),\n",
    "            nn.ReLU(),\n",
    "            nn.Conv2d(in_channels=16, out_channels=16, kernel_size=3, stride=1, padding=1),\n",
    "            nn.ReLU(),\n",
    "            nn.MaxPool2d(kernel_size=2, stride=2),\n",
    "            FeatureExtractionBlock(16, 32),\n",
    "            FeatureExtractionBlock(32, 64),\n",
    "            FeatureExtractionBlock(64, 128),\n",
    "            FeatureExtractionBlock(128, 256),\n",
    "        )\n",
    "\n",
    "        self.dropout1 = nn.Dropout(p=dropout_rate)\n",
    "        self.dropout2 = nn.Dropout(p=dropout_rate)\n",
    "        \n",
    "        # Fully connected layers\n",
    "        self.fc1 = nn.Linear(256 * 5 * 5, 512)\n",
    "        self.fc2 = nn.Linear(512, 128)\n",
    "        self.fc3 = nn.Linear(128, 64) \n",
    "        self.fc4 = nn.Linear(64, 2)\n",
    "        \n",
    "    def forward(self, x):\n",
    "        # Input: (batch_size, 61, 3, 176, 176)\n",
    "        batch_size, seq_len, channels, height, width = x.shape\n",
    "\n",
    "        # Flatten temporal dimension\n",
    "        x = x.view(batch_size * seq_len, channels, height, width)  # Shape: (batch_size * 61, 3, 176, 176)\n",
    "        x = self.feature_extractor(x)\n",
    "\n",
    "        # Flatten spatial dimensions\n",
    "        x = torch.flatten(x, start_dim=1)  # Shape: (batch_size * 61, 256 * 5 * 5)\n",
    "        x = x.view(batch_size, seq_len, -1)\n",
    "\n",
    "        x = torch.mean(x, dim=1)  # Shape: (batch_size, 256 * 5 * 5)\n",
    "\n",
    "        # Fully connected layers\n",
    "        x = self.dropout1(x)\n",
    "        x = F.relu(self.fc1(x))\n",
    "        x = F.relu(self.fc2(x))\n",
    "        x = F.relu(self.fc3(x))\n",
    "        x = self.fc4(x)  # Final output: (batch_size, 2)\n",
    "\n",
    "        return x"
   ]
  },
  {
   "cell_type": "code",
   "execution_count": 43,
   "metadata": {},
   "outputs": [
    {
     "name": "stdout",
     "output_type": "stream",
     "text": [
      "cuda:0\n"
     ]
    }
   ],
   "source": [
    "device = torch.device(\"cuda:0\" if torch.cuda.is_available() else \"cpu\")\n",
    "print(device)\n",
    "model = ADCNN().to(device)"
   ]
  },
  {
   "cell_type": "markdown",
   "metadata": {},
   "source": [
    "### Here is our training function for reference but we will not run it for this demo"
   ]
  },
  {
   "cell_type": "code",
   "execution_count": 44,
   "metadata": {},
   "outputs": [],
   "source": [
    "def train_model(model, train_loader, num_epochs=20, learning_rate=0.001, device='cuda'):\n",
    "    model.to(device)\n",
    "    \n",
    "    optimizer = optim.RMSprop(model.parameters(), lr=learning_rate)\n",
    "    criterion = torch.nn.CrossEntropyLoss()\n",
    "\n",
    "    for epoch in range(num_epochs):\n",
    "        model.train()\n",
    "        running_loss = 0.0\n",
    "        correct = 0\n",
    "        total = 0\n",
    "        \n",
    "        for batch_idx, (inputs, labels) in enumerate(train_loader):\n",
    "            inputs, labels = inputs.to(device), labels.to(device)\n",
    "            optimizer.zero_grad()\n",
    "            outputs = model(inputs)\n",
    "            loss = criterion(outputs, labels)\n",
    "            loss.backward()\n",
    "            optimizer.step()\n",
    "\n",
    "            running_loss += loss.item()\n",
    "\n",
    "            # Calculate accuracy\n",
    "            _, predicted = torch.max(outputs.data, 1)\n",
    "            total += labels.size(0)\n",
    "            correct += (predicted == labels).sum().item()\n",
    "\n",
    "        # Print stats for the epoch\n",
    "        epoch_loss = running_loss / len(train_loader)\n",
    "        epoch_acc = 100 * correct / total\n",
    "        print(f\"Epoch [{epoch+1}/{num_epochs}], Loss: {epoch_loss:.4f}, Accuracy: {epoch_acc:.2f}%\")\n",
    "\n",
    "        if epoch % 5 == 0:\n",
    "            torch.save(model.state_dict(), r'C:\\Users\\rohan\\Desktop\\184a\\AD-Detection\\trained.pth')\n",
    "     \n",
    "    print('Training Finished!')"
   ]
  },
  {
   "cell_type": "markdown",
   "metadata": {},
   "source": [
    "### Load the weights from our pre-trained model"
   ]
  },
  {
   "cell_type": "code",
   "execution_count": null,
   "metadata": {},
   "outputs": [
    {
     "name": "stderr",
     "output_type": "stream",
     "text": [
      "C:\\Users\\rohan\\AppData\\Local\\Temp\\ipykernel_23568\\3794863863.py:4: FutureWarning: You are using `torch.load` with `weights_only=False` (the current default value), which uses the default pickle module implicitly. It is possible to construct malicious pickle data which will execute arbitrary code during unpickling (See https://github.com/pytorch/pytorch/blob/main/SECURITY.md#untrusted-models for more details). In a future release, the default value for `weights_only` will be flipped to `True`. This limits the functions that could be executed during unpickling. Arbitrary objects will no longer be allowed to be loaded via this mode unless they are explicitly allowlisted by the user via `torch.serialization.add_safe_globals`. We recommend you start setting `weights_only=True` for any use case where you don't have full control of the loaded file. Please open an issue on GitHub for any issues related to this experimental feature.\n",
      "  model.load_state_dict(torch.load(model_path))\n"
     ]
    },
    {
     "name": "stdout",
     "output_type": "stream",
     "text": [
      "c:\\Users\\rohan\\Desktop\\184a\\AD-Detection\\3d_cnn_model.pth\n"
     ]
    },
    {
     "data": {
      "text/plain": [
       "<All keys matched successfully>"
      ]
     },
     "execution_count": 45,
     "metadata": {},
     "output_type": "execute_result"
    }
   ],
   "source": [
    "current_folder = os.getcwd()\n",
    "model_path = os.path.join(current_folder, 'src','3d_cnn_model.pth')\n",
    "print(model_path)\n",
    "model.load_state_dict(torch.load(model_path))"
   ]
  },
  {
   "cell_type": "markdown",
   "metadata": {},
   "source": [
    "### Evaluate using Confusion Matrix, Precision, Recall, and F1 Score"
   ]
  },
  {
   "cell_type": "markdown",
   "metadata": {},
   "source": [
    "Important Note: There is data leakage in this demo due to the fact that we used sklearn train_test_split to train our model with the full dataset, and we were unable to replicate this when creating this small dataset. Please see src/3D-AD-Detection-CNN.ipynb for our complete process."
   ]
  },
  {
   "cell_type": "code",
   "execution_count": 46,
   "metadata": {},
   "outputs": [
    {
     "name": "stdout",
     "output_type": "stream",
     "text": [
      "Confusion Matrix of the Test Set\n",
      "-----------\n",
      "[[79  0]\n",
      " [ 0 59]]\n",
      "Precision of the Model :\t1.0000\n",
      "Recall of the Model    :\t1.0000\n",
      "F1 Score of the Model  :\t1.0000\n"
     ]
    }
   ],
   "source": [
    "from sklearn.metrics import confusion_matrix, precision_score, recall_score, f1_score\n",
    "import itertools\n",
    "import torch\n",
    "\n",
    "def evaluate_model(model, test_loader, device='cuda'):\n",
    "    y_pred_list = []\n",
    "    y_target_list = []\n",
    "\n",
    "    model.eval()\n",
    "    with torch.no_grad():\n",
    "        for inputs, labels in test_loader:\n",
    "            inputs, labels = inputs.to(device), labels.to(device)\n",
    "\n",
    "            # Get model predictions\n",
    "            outputs = model(inputs)\n",
    "            _, y_pred = torch.max(outputs, 1)  # Predicted labels\n",
    "            \n",
    "            y_pred_list.append(y_pred.cpu().numpy())  # Move to CPU for metrics\n",
    "            y_target_list.append(labels.cpu().numpy())\n",
    "\n",
    "    # Flatten the predictions and targets\n",
    "    y_pred_list = list(itertools.chain.from_iterable(y_pred_list))\n",
    "    y_target_list = list(itertools.chain.from_iterable(y_target_list))\n",
    "\n",
    "    # Confusion Matrix\n",
    "    conf_matrix = confusion_matrix(y_target_list, y_pred_list)\n",
    "    print(\"Confusion Matrix of the Test Set\")\n",
    "    print(\"-----------\")\n",
    "    print(conf_matrix)\n",
    "\n",
    "    # Calculate metrics\n",
    "    precision = precision_score(y_target_list, y_pred_list, average='weighted')\n",
    "    recall = recall_score(y_target_list, y_pred_list, average='weighted')\n",
    "    f1 = f1_score(y_target_list, y_pred_list, average='weighted')\n",
    "\n",
    "    print(f\"Precision of the Model :\\t{precision:.4f}\")\n",
    "    print(f\"Recall of the Model    :\\t{recall:.4f}\")\n",
    "    print(f\"F1 Score of the Model  :\\t{f1:.4f}\")\n",
    "\n",
    "evaluate_model(model, test_dataloader, device='cuda')"
   ]
  }
 ],
 "metadata": {
  "kernelspec": {
   "display_name": "myenv",
   "language": "python",
   "name": "python3"
  },
  "language_info": {
   "codemirror_mode": {
    "name": "ipython",
    "version": 3
   },
   "file_extension": ".py",
   "mimetype": "text/x-python",
   "name": "python",
   "nbconvert_exporter": "python",
   "pygments_lexer": "ipython3",
   "version": "3.11.7"
  }
 },
 "nbformat": 4,
 "nbformat_minor": 2
}
