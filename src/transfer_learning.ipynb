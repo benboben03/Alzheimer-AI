{
 "cells": [
  {
   "cell_type": "markdown",
   "metadata": {},
   "source": [
    "### Dependencies"
   ]
  },
  {
   "cell_type": "code",
   "execution_count": 1,
   "metadata": {},
   "outputs": [],
   "source": [
    "import os\n",
    "import pandas as pd\n",
    "from tqdm import tqdm\n",
    "from PIL import Image\n",
    "import torch\n",
    "import torch.nn as nn\n",
    "import torch.nn.functional as F\n",
    "import torch.optim as optim\n",
    "from torch.utils.data import Dataset, DataLoader\n",
    "import torchvision.transforms as transforms\n",
    "from sklearn.model_selection import train_test_split\n"
   ]
  },
  {
   "cell_type": "markdown",
   "metadata": {},
   "source": [
    "### Dataset"
   ]
  },
  {
   "cell_type": "code",
   "execution_count": null,
   "metadata": {},
   "outputs": [],
   "source": [
    "class ADDataset(Dataset):\n",
    "    def __init__(self, dataframe, transform=None):\n",
    "        \"\"\"\n",
    "        Args:\n",
    "            dataframe (pd.DataFrame): DataFrame containing image paths and labels.\n",
    "            transform (callable, optional): Optional transform to be applied on an image.\n",
    "        \"\"\"\n",
    "        self.dataframe = dataframe\n",
    "        self.transform = transform\n",
    "\n",
    "    def __len__(self):\n",
    "        return len(self.dataframe)\n",
    "\n",
    "    def __getitem__(self, idx):\n",
    "        if torch.is_tensor(idx):\n",
    "            idx = idx.tolist()\n",
    "\n",
    "        # Get image path and label\n",
    "        img_path = self.dataframe.iloc[idx, 0]\n",
    "        label = self.dataframe.iloc[idx, 1]\n",
    "        \n",
    "        # Load image\n",
    "        image = Image.open(img_path).convert(\"RGB\")\n",
    "        \n",
    "        # Apply transformations if provided\n",
    "        if self.transform:\n",
    "            image = self.transform(image)\n",
    "        label = torch.tensor(label, dtype=torch.long)\n",
    "        \n",
    "        return image, label\n",
    "\n",
    "\n",
    "\n",
    "transform = transforms.Compose([\n",
    "    transforms.Resize((176, 176)),\n",
    "    transforms.ToTensor(),\n",
    "    transforms.Normalize(mean=[0.485, 0.456, 0.406], std=[0.229, 0.224, 0.225]) # Normalize with ImageNet stats\n",
    "])"
   ]
  },
  {
   "cell_type": "markdown",
   "metadata": {},
   "source": [
    "### CNN"
   ]
  },
  {
   "cell_type": "code",
   "execution_count": null,
   "metadata": {},
   "outputs": [],
   "source": [
    "class FeatureExtractionBlock(nn.Module):\n",
    "    def __init__(self, in_channels, out_channels):\n",
    "        super(FeatureExtractionBlock, self).__init__()\n",
    "        self.conv1 = nn.Conv2d(in_channels, out_channels, kernel_size=3, stride=1, padding=1)\n",
    "        self.conv2 = nn.Conv2d(out_channels, out_channels, kernel_size=3, stride=1, padding=1)\n",
    "        self.batch_norm = nn.BatchNorm2d(out_channels)\n",
    "        self.max_pool = nn.MaxPool2d(kernel_size=2, stride=2)\n",
    "\n",
    "    def forward(self, x):\n",
    "        x = F.relu(self.conv1(x))\n",
    "        x = F.relu(self.conv2(x))\n",
    "        x = self.batch_norm(x)\n",
    "        x = self.max_pool(x)\n",
    "        return x\n",
    "\n",
    "\n",
    "class ADCNN(nn.Module):\n",
    "    def __init__(self, dropout_rate=0.25):\n",
    "        super(ADCNN, self).__init__()\n",
    "\n",
    "        self.conv1 = nn.Conv2d(in_channels=3, out_channels=16, kernel_size=3, stride=1, padding=1)\n",
    "        self.conv2 = nn.Conv2d(in_channels=16, out_channels=16, kernel_size=3, stride=1, padding=1)\n",
    "        self.pool1 = nn.MaxPool2d(kernel_size=2, stride=2)\n",
    "\n",
    "        # Feature Extraction Blocks\n",
    "        self.block1 = FeatureExtractionBlock(16, 32)  \n",
    "        self.block2 = FeatureExtractionBlock(32, 64) \n",
    "        self.block3 = FeatureExtractionBlock(64, 128)\n",
    "        self.block4 = FeatureExtractionBlock(128, 256)\n",
    "\n",
    "        self.dropout1 = nn.Dropout(p=dropout_rate)\n",
    "        self.dropout2 = nn.Dropout(p=dropout_rate)\n",
    "        \n",
    "        # Fully connected layers\n",
    "        self.fc1 = nn.Linear(256 * 5 * 5, 512)\n",
    "        self.fc2 = nn.Linear(512, 128)\n",
    "        self.fc3 = nn.Linear(128, 64) \n",
    "        self.fc4 = nn.Linear(64, 4)\n",
    "        \n",
    "        # Softmax layer is applied in forward\n",
    "        self.softmax = nn.Softmax(dim=1)\n",
    "    \n",
    "    def forward(self, x):\n",
    "        x = F.relu(self.conv1(x))\n",
    "        x = F.relu(self.conv2(x))\n",
    "        x = self.pool1(x)\n",
    "\n",
    "        x = self.block1(x)\n",
    "        x = self.block2(x)\n",
    "        x = self.block3(x)\n",
    "        x = self.dropout1(x)\n",
    "        x = self.block4(x)\n",
    "        x = self.dropout2(x)\n",
    "\n",
    "        x = torch.flatten(x, start_dim=1)\n",
    "        \n",
    "        # Fully connected layers\n",
    "        x = self.fc1(x)\n",
    "        x = self.fc2(x)\n",
    "        x = self.fc3(x)\n",
    "        x = self.fc4(x)\n",
    "        #x = self.softmax(x)\n",
    "        return x"
   ]
  },
  {
   "cell_type": "code",
   "execution_count": 4,
   "metadata": {},
   "outputs": [
    {
     "name": "stdout",
     "output_type": "stream",
     "text": [
      "cuda:0\n"
     ]
    },
    {
     "name": "stderr",
     "output_type": "stream",
     "text": [
      "C:\\Users\\rohan\\AppData\\Local\\Temp\\ipykernel_24760\\2429344213.py:4: FutureWarning: You are using `torch.load` with `weights_only=False` (the current default value), which uses the default pickle module implicitly. It is possible to construct malicious pickle data which will execute arbitrary code during unpickling (See https://github.com/pytorch/pytorch/blob/main/SECURITY.md#untrusted-models for more details). In a future release, the default value for `weights_only` will be flipped to `True`. This limits the functions that could be executed during unpickling. Arbitrary objects will no longer be allowed to be loaded via this mode unless they are explicitly allowlisted by the user via `torch.serialization.add_safe_globals`. We recommend you start setting `weights_only=True` for any use case where you don't have full control of the loaded file. Please open an issue on GitHub for any issues related to this experimental feature.\n",
      "  model.load_state_dict(torch.load(r'C:\\Users\\rohan\\Desktop\\184a\\AD-Detection\\trained_cnn.pth'))\n"
     ]
    },
    {
     "data": {
      "text/plain": [
       "<All keys matched successfully>"
      ]
     },
     "execution_count": 4,
     "metadata": {},
     "output_type": "execute_result"
    }
   ],
   "source": [
    "device = torch.device(\"cuda:0\" if torch.cuda.is_available() else \"cpu\")\n",
    "print(device)\n",
    "model = ADCNN().to(device)\n",
    "model.load_state_dict(torch.load(r'C:\\Users\\rohan\\Desktop\\184a\\AD-Detection\\trained_cnn.pth'))"
   ]
  },
  {
   "cell_type": "markdown",
   "metadata": {},
   "source": [
    "### Transfer Learning\n",
    "\n",
    "Dataset: https://www.kaggle.com/datasets/lukechugh/best-alzheimer-mri-dataset-99-accuracy/data?select=Combined+Dataset\n",
    "\n",
    "Preprocessing"
   ]
  },
  {
   "cell_type": "code",
   "execution_count": null,
   "metadata": {},
   "outputs": [],
   "source": [
    "import cv2\n",
    "import numpy as np\n",
    "\n",
    "def align_images(image, reference):\n",
    "    # Detect features and compute descriptors\n",
    "    sift = cv2.SIFT_create()\n",
    "    kp1, des1 = sift.detectAndCompute(image, None)\n",
    "    kp2, des2 = sift.detectAndCompute(reference, None)\n",
    "\n",
    "    matcher = cv2.BFMatcher()\n",
    "    matches = matcher.knnMatch(des1, des2, k=2)\n",
    "\n",
    "    # Filter matches\n",
    "    good_matches = []\n",
    "    for m, n in matches:\n",
    "        if m.distance < 0.75 * n.distance:\n",
    "            good_matches.append(m)\n",
    "\n",
    "    # Get corresponding points\n",
    "    src_pts = np.float32([kp1[m.queryIdx].pt for m in good_matches]).reshape(-1, 1, 2)\n",
    "    dst_pts = np.float32([kp2[m.trainIdx].pt for m in good_matches]).reshape(-1, 1, 2)\n",
    "\n",
    "    matrix, _ = cv2.estimateAffinePartial2D(src_pts, dst_pts)\n",
    "\n",
    "    aligned_image = cv2.warpAffine(image, matrix, (reference.shape[1], reference.shape[0]))\n",
    "    return aligned_image\n",
    "\n",
    "def preprocess_image(image_path, output_path):\n",
    "    image = cv2.imread(image_path)\n",
    "\n",
    "    # Step 1: Reorientation\n",
    "    image = cv2.rotate(image, cv2.ROTATE_90_CLOCKWISE)\n",
    "\n",
    "    # # Step 2: Registration (using a reference image)\n",
    "    # reference = cv2.imread(r'C:\\Users\\rohan\\Desktop\\184a\\AD-Detection\\archive\\Data\\Mild-Dementia\\OAS1_0028_MR1_mpr-2_141.jpg')\n",
    "    # image = align_images(image, reference)\n",
    "\n",
    "    # Step 3: Skull-stripping\n",
    "    # gray = cv2.cvtColor(image, cv2.COLOR_BGR2GRAY)\n",
    "    # edges = cv2.Canny(gray, 100, 200)\n",
    "    # mask = cv2.dilate(edges, None, iterations=2)\n",
    "    # image = cv2.bitwise_and(image, image, mask=mask)\n",
    "\n",
    "    # Histogram Equalization\n",
    "    gray = cv2.cvtColor(image, cv2.COLOR_BGR2GRAY)\n",
    "    image = cv2.equalizeHist(gray)\n",
    "    cv2.imwrite(output_path, image)"
   ]
  },
  {
   "cell_type": "code",
   "execution_count": 6,
   "metadata": {},
   "outputs": [],
   "source": [
    "import cv2\n",
    "\n",
    "def darken_image(image_path, output_path, alpha=0.5, beta=0):\n",
    "\n",
    "    # Load the image\n",
    "    image = cv2.imread(image_path)\n",
    "\n",
    "    # Adjust brightness\n",
    "    darkened_image = cv2.convertScaleAbs(image, alpha=alpha, beta=beta)\n",
    "\n",
    "    cv2.imwrite(output_path, darkened_image)\n",
    "\n",
    "    return darkened_image\n"
   ]
  },
  {
   "cell_type": "code",
   "execution_count": null,
   "metadata": {},
   "outputs": [],
   "source": [
    "import os\n",
    "\n",
    "folder = r'C:\\Users\\rohan\\Desktop\\184a\\AD-Detection\\archive2\\Combined Dataset\\train'\n",
    "processed_path = r'C:\\Users\\rohan\\Desktop\\184a\\AD-Detection\\archive2\\Combined Dataset\\processed'\n",
    "for subfolder in os.listdir(folder):\n",
    "    subfolder_path = os.path.join(folder, subfolder)\n",
    "    processed_subpath = os.path.join(processed_path, subfolder)\n",
    "    for image_filename in os.listdir(subfolder_path):\n",
    "        image_path = os.path.join(subfolder_path, image_filename)\n",
    "        processed_image = os.path.join(processed_subpath, image_filename)\n",
    "        image = Image.open(image_path)\n",
    "        rotated_image = image.transpose(Image.ROTATE_90)\n",
    "        rotated_image.save(processed_image)\n",
    "\n",
    "        preprocess_image(processed_image, processed_image) # Histogram equalization\n",
    "\n",
    "        darken_image(processed_image, processed_image) # darken image\n",
    "\n",
    "        \n",
    "        "
   ]
  },
  {
   "cell_type": "markdown",
   "metadata": {},
   "source": [
    "Loading and Evaluation"
   ]
  },
  {
   "cell_type": "code",
   "execution_count": null,
   "metadata": {},
   "outputs": [
    {
     "data": {
      "text/html": [
       "<div>\n",
       "<style scoped>\n",
       "    .dataframe tbody tr th:only-of-type {\n",
       "        vertical-align: middle;\n",
       "    }\n",
       "\n",
       "    .dataframe tbody tr th {\n",
       "        vertical-align: top;\n",
       "    }\n",
       "\n",
       "    .dataframe thead th {\n",
       "        text-align: right;\n",
       "    }\n",
       "</style>\n",
       "<table border=\"1\" class=\"dataframe\">\n",
       "  <thead>\n",
       "    <tr style=\"text-align: right;\">\n",
       "      <th></th>\n",
       "      <th>image</th>\n",
       "      <th>label</th>\n",
       "    </tr>\n",
       "  </thead>\n",
       "  <tbody>\n",
       "    <tr>\n",
       "      <th>0</th>\n",
       "      <td>C:\\Users\\rohan\\Desktop\\184a\\AD-Detection\\archi...</td>\n",
       "      <td>0</td>\n",
       "    </tr>\n",
       "    <tr>\n",
       "      <th>1</th>\n",
       "      <td>C:\\Users\\rohan\\Desktop\\184a\\AD-Detection\\archi...</td>\n",
       "      <td>0</td>\n",
       "    </tr>\n",
       "    <tr>\n",
       "      <th>2</th>\n",
       "      <td>C:\\Users\\rohan\\Desktop\\184a\\AD-Detection\\archi...</td>\n",
       "      <td>0</td>\n",
       "    </tr>\n",
       "    <tr>\n",
       "      <th>3</th>\n",
       "      <td>C:\\Users\\rohan\\Desktop\\184a\\AD-Detection\\archi...</td>\n",
       "      <td>0</td>\n",
       "    </tr>\n",
       "    <tr>\n",
       "      <th>4</th>\n",
       "      <td>C:\\Users\\rohan\\Desktop\\184a\\AD-Detection\\archi...</td>\n",
       "      <td>0</td>\n",
       "    </tr>\n",
       "    <tr>\n",
       "      <th>...</th>\n",
       "      <td>...</td>\n",
       "      <td>...</td>\n",
       "    </tr>\n",
       "    <tr>\n",
       "      <th>11514</th>\n",
       "      <td>C:\\Users\\rohan\\Desktop\\184a\\AD-Detection\\archi...</td>\n",
       "      <td>3</td>\n",
       "    </tr>\n",
       "    <tr>\n",
       "      <th>11515</th>\n",
       "      <td>C:\\Users\\rohan\\Desktop\\184a\\AD-Detection\\archi...</td>\n",
       "      <td>3</td>\n",
       "    </tr>\n",
       "    <tr>\n",
       "      <th>11516</th>\n",
       "      <td>C:\\Users\\rohan\\Desktop\\184a\\AD-Detection\\archi...</td>\n",
       "      <td>3</td>\n",
       "    </tr>\n",
       "    <tr>\n",
       "      <th>11517</th>\n",
       "      <td>C:\\Users\\rohan\\Desktop\\184a\\AD-Detection\\archi...</td>\n",
       "      <td>3</td>\n",
       "    </tr>\n",
       "    <tr>\n",
       "      <th>11518</th>\n",
       "      <td>C:\\Users\\rohan\\Desktop\\184a\\AD-Detection\\archi...</td>\n",
       "      <td>3</td>\n",
       "    </tr>\n",
       "  </tbody>\n",
       "</table>\n",
       "<p>11519 rows × 2 columns</p>\n",
       "</div>"
      ],
      "text/plain": [
       "                                                   image  label\n",
       "0      C:\\Users\\rohan\\Desktop\\184a\\AD-Detection\\archi...      0\n",
       "1      C:\\Users\\rohan\\Desktop\\184a\\AD-Detection\\archi...      0\n",
       "2      C:\\Users\\rohan\\Desktop\\184a\\AD-Detection\\archi...      0\n",
       "3      C:\\Users\\rohan\\Desktop\\184a\\AD-Detection\\archi...      0\n",
       "4      C:\\Users\\rohan\\Desktop\\184a\\AD-Detection\\archi...      0\n",
       "...                                                  ...    ...\n",
       "11514  C:\\Users\\rohan\\Desktop\\184a\\AD-Detection\\archi...      3\n",
       "11515  C:\\Users\\rohan\\Desktop\\184a\\AD-Detection\\archi...      3\n",
       "11516  C:\\Users\\rohan\\Desktop\\184a\\AD-Detection\\archi...      3\n",
       "11517  C:\\Users\\rohan\\Desktop\\184a\\AD-Detection\\archi...      3\n",
       "11518  C:\\Users\\rohan\\Desktop\\184a\\AD-Detection\\archi...      3\n",
       "\n",
       "[11519 rows x 2 columns]"
      ]
     },
     "execution_count": 7,
     "metadata": {},
     "output_type": "execute_result"
    }
   ],
   "source": [
    "images2 = []\n",
    "labels2 = []\n",
    "label = 0\n",
    "folder = r'C:\\Users\\rohan\\Desktop\\184a\\AD-Detection\\archive2\\Combined Dataset\\processed'\n",
    "for subfolder in os.listdir(folder):\n",
    "    subfolder_path = os.path.join(folder, subfolder)\n",
    "    for image_filename in os.listdir(subfolder_path):\n",
    "        image_path = os.path.join(subfolder_path, image_filename)\n",
    "        images2.append(image_path)\n",
    "        labels2.append(label)\n",
    "    label += 1\n",
    "\n",
    "df2 = pd.DataFrame({'image': images2, 'label': labels2})\n",
    "df2"
   ]
  },
  {
   "cell_type": "code",
   "execution_count": null,
   "metadata": {},
   "outputs": [
    {
     "name": "stdout",
     "output_type": "stream",
     "text": [
      "11519\n",
      "Transfer Learning DataLoader:\n",
      "torch.Size([16, 3, 176, 176])\n",
      "tensor([3, 2, 2, 3, 0, 2, 2, 0, 3, 2, 3, 3, 2, 2, 1, 1])\n"
     ]
    }
   ],
   "source": [
    "# Create Datasets for training and testing\n",
    "tl_dataset = ADDataset(dataframe=df2, transform=transform)\n",
    "\n",
    "print(len(tl_dataset))\n",
    "\n",
    "\n",
    "# Create DataLoaders\n",
    "batch_size = 16\n",
    "tl_dataloader = DataLoader(tl_dataset, batch_size=batch_size, shuffle=True)\n",
    "\n",
    "\n",
    "# Test the DataLoader\n",
    "print(\"Transfer Learning DataLoader:\")\n",
    "for images, labels in tl_dataloader:\n",
    "    print(images.shape)\n",
    "    print(labels)\n",
    "    break"
   ]
  },
  {
   "cell_type": "code",
   "execution_count": null,
   "metadata": {},
   "outputs": [
    {
     "name": "stdout",
     "output_type": "stream",
     "text": [
      "Confusion Matrix of the Test Set\n",
      "-----------\n",
      "[[ 266    0 2200  273]\n",
      " [ 293    0 1541  738]\n",
      " [ 162    0 2241  797]\n",
      " [ 338    0 1942  728]]\n",
      "Precision of the Model :\t0.2133\n",
      "Recall of the Model    :\t0.2808\n",
      "F1 Score of the Model  :\t0.2138\n"
     ]
    },
    {
     "name": "stderr",
     "output_type": "stream",
     "text": [
      "c:\\Users\\rohan\\Desktop\\184a\\AD-Detection\\myenv\\Lib\\site-packages\\sklearn\\metrics\\_classification.py:1531: UndefinedMetricWarning: Precision is ill-defined and being set to 0.0 in labels with no predicted samples. Use `zero_division` parameter to control this behavior.\n",
      "  _warn_prf(average, modifier, f\"{metric.capitalize()} is\", len(result))\n"
     ]
    }
   ],
   "source": [
    "from sklearn.metrics import confusion_matrix, precision_score, recall_score, f1_score\n",
    "import itertools\n",
    "def evaluate_transfer_learning(model, tl_loader, device='cuda'):\n",
    "    y_pred_list = []\n",
    "    y_target_list = []\n",
    "\n",
    "    model.eval()  # Set the model to evaluation mode\n",
    "    with torch.no_grad():\n",
    "        for inputs, labels in tl_loader:\n",
    "            inputs, labels = inputs.to(device), labels.to(device)\n",
    "\n",
    "            outputs = model(inputs)\n",
    "            _, y_pred = torch.max(outputs, 1)\n",
    "            \n",
    "            y_pred_list.append(y_pred.cpu().numpy())\n",
    "            y_target_list.append(labels.cpu().numpy())\n",
    "\n",
    "    y_pred_list = list(itertools.chain.from_iterable(y_pred_list))\n",
    "    y_target_list = list(itertools.chain.from_iterable(y_target_list))\n",
    "\n",
    "    conf_matrix = confusion_matrix(y_target_list, y_pred_list)\n",
    "    print(\"Confusion Matrix of the Test Set\")\n",
    "    print(\"-----------\")\n",
    "    print(conf_matrix)\n",
    "\n",
    "    precision = precision_score(y_target_list, y_pred_list, average='weighted')\n",
    "    recall = recall_score(y_target_list, y_pred_list, average='weighted')\n",
    "    f1 = f1_score(y_target_list, y_pred_list, average='weighted')\n",
    "\n",
    "    print(f\"Precision of the Model :\\t{precision:.4f}\")\n",
    "    print(f\"Recall of the Model    :\\t{recall:.4f}\")\n",
    "    print(f\"F1 Score of the Model  :\\t{f1:.4f}\")\n",
    "\n",
    "evaluate_transfer_learning(model, tl_dataloader, device='cuda')"
   ]
  }
 ],
 "metadata": {
  "kernelspec": {
   "display_name": "myenv",
   "language": "python",
   "name": "python3"
  },
  "language_info": {
   "codemirror_mode": {
    "name": "ipython",
    "version": 3
   },
   "file_extension": ".py",
   "mimetype": "text/x-python",
   "name": "python",
   "nbconvert_exporter": "python",
   "pygments_lexer": "ipython3",
   "version": "3.11.7"
  }
 },
 "nbformat": 4,
 "nbformat_minor": 2
}
